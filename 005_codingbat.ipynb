{
 "cells": [
  {
   "cell_type": "code",
   "execution_count": 1,
   "metadata": {},
   "outputs": [],
   "source": [
    "#sleep_in\n",
    "def sleep_in(weekday, vacation):\n",
    "    if weekday == False or vacation == True:\n",
    "        return True\n",
    "    else:\n",
    "        return False"
   ]
  },
  {
   "cell_type": "code",
   "execution_count": 2,
   "metadata": {},
   "outputs": [],
   "source": [
    "def sleep_in(weekday, vacation):\n",
    "    if not weekday or vacation:\n",
    "        return True\n",
    "    else:\n",
    "        return False"
   ]
  },
  {
   "cell_type": "code",
   "execution_count": 3,
   "metadata": {},
   "outputs": [],
   "source": [
    "#string_times\n",
    "def string_times(str, n):\n",
    "    return str * n"
   ]
  },
  {
   "cell_type": "code",
   "execution_count": 4,
   "metadata": {},
   "outputs": [],
   "source": [
    "#hello_name\n",
    "def hello_name(name):\n",
    "    return(\"Hello \" + name + \"!\")"
   ]
  },
  {
   "cell_type": "code",
   "execution_count": 5,
   "metadata": {},
   "outputs": [],
   "source": [
    "#First_last6\n",
    "def first_last6(nums):\n",
    "    if nums[0] == 6 or nums[-1] == 6:\n",
    "        return True\n",
    "    else:\n",
    "        return False"
   ]
  },
  {
   "cell_type": "code",
   "execution_count": 8,
   "metadata": {},
   "outputs": [
    {
     "name": "stdout",
     "output_type": "stream",
     "text": [
      "abcf\n"
     ]
    }
   ],
   "source": [
    "#double_char\n",
    "d = 'abc'\n",
    "d = d + 'f'\n",
    "print(d)"
   ]
  },
  {
   "cell_type": "code",
   "execution_count": 10,
   "metadata": {},
   "outputs": [
    {
     "name": "stdout",
     "output_type": "stream",
     "text": [
      "abcfff\n"
     ]
    }
   ],
   "source": [
    "d += 'f'\n",
    "print(d)"
   ]
  },
  {
   "cell_type": "code",
   "execution_count": 11,
   "metadata": {},
   "outputs": [
    {
     "name": "stdout",
     "output_type": "stream",
     "text": [
      "AABBCC\n"
     ]
    }
   ],
   "source": [
    "given = 'ABC'\n",
    "to_return = ''\n",
    "for c in given:\n",
    "    to_return += c*2\n",
    "print(to_return)"
   ]
  },
  {
   "cell_type": "code",
   "execution_count": 12,
   "metadata": {},
   "outputs": [],
   "source": [
    "#double_char\n",
    "def double_char(str):\n",
    "    to_return = ''\n",
    "    for c in str:\n",
    "        to_return += c*2\n",
    "    return to_return"
   ]
  },
  {
   "cell_type": "code",
   "execution_count": 13,
   "metadata": {},
   "outputs": [],
   "source": [
    "#count_evens\n",
    "def count_evens(nums):\n",
    "    counter = 0\n",
    "    for x in nums:\n",
    "        if x % 2 == 0:\n",
    "            counter += 1\n",
    "    return counter"
   ]
  },
  {
   "cell_type": "code",
   "execution_count": 15,
   "metadata": {},
   "outputs": [],
   "source": [
    "#monkey_trouble\n",
    "def monkey_trouble(a_smile, b_smile):\n",
    "    if (a_smile and b_smile) or (not a_smile and not b_smile):\n",
    "        return True\n",
    "    else:\n",
    "        return False"
   ]
  },
  {
   "cell_type": "code",
   "execution_count": 16,
   "metadata": {},
   "outputs": [],
   "source": [
    "#sum_double\n",
    "def sum_double(a, b):\n",
    "    if a == b:\n",
    "        sum = 4 * a\n",
    "        return sum\n",
    "    else:\n",
    "        sum = a + b\n",
    "        return sum"
   ]
  },
  {
   "cell_type": "code",
   "execution_count": 17,
   "metadata": {},
   "outputs": [],
   "source": [
    "#diff21\n",
    "def diff21(n):\n",
    "    if n <= 21:\n",
    "        return 21 - n\n",
    "    else:\n",
    "        return 2 * (n - 21)"
   ]
  },
  {
   "cell_type": "code",
   "execution_count": 18,
   "metadata": {},
   "outputs": [],
   "source": [
    "#parrot_trouble\n",
    "def parrot_trouble(talking, hour):\n",
    "    if talking and (hour < 7 or hour > 20):\n",
    "        return True\n",
    "    else:\n",
    "        return False"
   ]
  },
  {
   "cell_type": "code",
   "execution_count": 19,
   "metadata": {},
   "outputs": [],
   "source": [
    "#makes10\n",
    "def makes10(a, b):\n",
    "    if (a == 10 or b == 10) or (a + b == 10):\n",
    "        return True\n",
    "    else:\n",
    "        return False"
   ]
  },
  {
   "cell_type": "code",
   "execution_count": 20,
   "metadata": {},
   "outputs": [],
   "source": [
    "#near_hundred\n",
    "def near_hundred(n):\n",
    "    if abs(100 - n) <= 10 or abs(200 - n) <= 10:\n",
    "        return True\n",
    "    else:\n",
    "        return False"
   ]
  },
  {
   "cell_type": "code",
   "execution_count": 21,
   "metadata": {},
   "outputs": [],
   "source": [
    "#pos_neg\n",
    "def pos_neg(a, b, negative):\n",
    "    if negative:\n",
    "        return(a < 0 and b < 0)\n",
    "    else:\n",
    "        return((a < 0 and b > 0) or (a > 0 and b < 0))"
   ]
  },
  {
   "cell_type": "code",
   "execution_count": 22,
   "metadata": {},
   "outputs": [],
   "source": [
    "#not_string\n",
    "def not_string(str):\n",
    "    if len(str) >= 3 and str[:3] == 'not': #from 0 to 2 (not)\n",
    "        return str\n",
    "    return('not ' + str)"
   ]
  },
  {
   "cell_type": "code",
   "execution_count": 23,
   "metadata": {},
   "outputs": [],
   "source": [
    "#missing_char\n",
    "def missing_char(str, n):\n",
    "    front = str[:n]\n",
    "    back = str[n+1:]\n",
    "    return front + back"
   ]
  },
  {
   "cell_type": "code",
   "execution_count": 24,
   "metadata": {},
   "outputs": [],
   "source": [
    "#reverse_string\n",
    "def reverse(str):\n",
    "    return str[::-1]"
   ]
  },
  {
   "cell_type": "code",
   "execution_count": 25,
   "metadata": {},
   "outputs": [],
   "source": [
    "#front_back\n",
    "def front_back(str):\n",
    "    if len(str) <= 1:\n",
    "        return str\n",
    "    else:\n",
    "        front = str[0]\n",
    "        mid = str[1:(len(str)-1)] #or str[1:-1]\n",
    "        back = str[-1]\n",
    "        return back + mid + front"
   ]
  },
  {
   "cell_type": "code",
   "execution_count": 26,
   "metadata": {},
   "outputs": [],
   "source": [
    "#front3\n",
    "def front3(str):\n",
    "    if len(str) < 3:\n",
    "        new_str = str * 3\n",
    "    else:\n",
    "        front = str[:3]\n",
    "        new_str = front * 3\n",
    "    return new_str"
   ]
  },
  {
   "cell_type": "code",
   "execution_count": 27,
   "metadata": {},
   "outputs": [
    {
     "data": {
      "text/plain": [
       "'abs'"
      ]
     },
     "execution_count": 27,
     "metadata": {},
     "output_type": "execute_result"
    }
   ],
   "source": [
    "x = \"absdaknhd\"\n",
    "x[:3]"
   ]
  },
  {
   "cell_type": "code",
   "execution_count": 28,
   "metadata": {},
   "outputs": [
    {
     "data": {
      "text/plain": [
       "'a'"
      ]
     },
     "execution_count": 28,
     "metadata": {},
     "output_type": "execute_result"
    }
   ],
   "source": [
    "y = \"a\"\n",
    "y[:3]"
   ]
  },
  {
   "cell_type": "code",
   "execution_count": 29,
   "metadata": {},
   "outputs": [],
   "source": [
    "#front_times\n",
    "def front_times(str, n):\n",
    "    front = str[:3]\n",
    "    return front * n"
   ]
  },
  {
   "cell_type": "code",
   "execution_count": null,
   "metadata": {},
   "outputs": [],
   "source": []
  }
 ],
 "metadata": {
  "kernelspec": {
   "display_name": "Python 3",
   "language": "python",
   "name": "python3"
  },
  "language_info": {
   "codemirror_mode": {
    "name": "ipython",
    "version": 3
   },
   "file_extension": ".py",
   "mimetype": "text/x-python",
   "name": "python",
   "nbconvert_exporter": "python",
   "pygments_lexer": "ipython3",
   "version": "3.6.8"
  }
 },
 "nbformat": 4,
 "nbformat_minor": 2
}
